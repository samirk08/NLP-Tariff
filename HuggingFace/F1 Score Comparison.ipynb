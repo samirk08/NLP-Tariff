{
 "cells": [
  {
   "cell_type": "code",
   "execution_count": 1,
   "metadata": {},
   "outputs": [],
   "source": [
    "import pandas as pd\n",
    "from sklearn.metrics import f1_score"
   ]
  },
  {
   "cell_type": "code",
   "execution_count": 2,
   "metadata": {},
   "outputs": [],
   "source": [
    "path_new_gpt4_results = '/Users/samirkadariya/Desktop/School/UROP IAP 2024/GPT/1990 - GPT4/GPT Output.csv'\n",
    "df_new_gpt4_results = pd.read_csv(path_new_gpt4_results)\n",
    "\n",
    "# Extracting the relevant columns: \"1990 Product Code\" and \"GPT-4 Predicted HS Code\"\n",
    "df_new_gpt4_results['Matched HS Code'] = df_new_gpt4_results['Matched HS Code'].astype(str)\n",
    "df_new_gpt4_results['1990 Product Code'] = df_new_gpt4_results['1990 Product Code'].astype(str)"
   ]
  },
  {
   "cell_type": "code",
   "execution_count": 3,
   "metadata": {},
   "outputs": [
    {
     "data": {
      "text/plain": [
       "(0.8979591836734693, 0.6153846153846153, 0.5789473684210525)"
      ]
     },
     "execution_count": 3,
     "metadata": {},
     "output_type": "execute_result"
    }
   ],
   "source": [
    "# Define the function to calculate F1 score as a true/false metric (0 or 1)\n",
    "def calculate_binary_f1_scores(y_true, y_pred, digit_level):\n",
    "    y_true_truncated = [code[:digit_level] for code in y_true]\n",
    "    y_pred_truncated = [code[:digit_level] for code in y_pred]\n",
    "    matches = [1 if true_code == pred_code else 0 for true_code, pred_code in zip(y_true_truncated, y_pred_truncated)]\n",
    "    return f1_score(matches, [1]*len(matches), zero_division=1)\n",
    "\n",
    "# Calculating F1 scores for HS4, HS6, and HS8 as binary metrics\n",
    "f1_hs4_binary = calculate_binary_f1_scores(df_new_gpt4_results['Matched HS Code'], df_new_gpt4_results['1990 Product Code'], 4)\n",
    "f1_hs6_binary = calculate_binary_f1_scores(df_new_gpt4_results['Matched HS Code'], df_new_gpt4_results['1990 Product Code'], 6)\n",
    "f1_hs8_binary = calculate_binary_f1_scores(df_new_gpt4_results['Matched HS Code'], df_new_gpt4_results['1990 Product Code'], 8)\n",
    "\n",
    "f1_hs4_binary, f1_hs6_binary, f1_hs8_binary"
   ]
  },
  {
   "cell_type": "code",
   "execution_count": 4,
   "metadata": {},
   "outputs": [
    {
     "data": {
      "text/plain": [
       "'Jan25.csv'"
      ]
     },
     "execution_count": 4,
     "metadata": {},
     "output_type": "execute_result"
    }
   ],
   "source": [
    "def add_individual_f1_scores(df, y_true, y_pred):\n",
    "    # Adding individual F1 scores for each row in the dataframe\n",
    "    df['F1 Score HS4'] = [f1_score([1], [1 if true_code[:4] == pred_code[:4] else 0], zero_division=1) for true_code, pred_code in zip(y_true, y_pred)]\n",
    "    df['F1 Score HS6'] = [f1_score([1], [1 if true_code[:6] == pred_code[:6] else 0], zero_division=1) for true_code, pred_code in zip(y_true, y_pred)]\n",
    "    df['F1 Score HS8'] = [f1_score([1], [1 if true_code[:8] == pred_code[:8] else 0], zero_division=1) for true_code, pred_code in zip(y_true, y_pred)]\n",
    "    return df\n",
    "\n",
    "# Adding individual F1 scores to the dataframe\n",
    "df_new_gpt4_results_with_f1 = add_individual_f1_scores(df_new_gpt4_results, df_new_gpt4_results['Matched HS Code'], df_new_gpt4_results['1990 Product Code'])\n",
    "\n",
    "# Exporting the dataframe with F1 scores to a new CSV file\n",
    "new_export_path = 'Jan25.csv'\n",
    "df_new_gpt4_results_with_f1.to_csv(new_export_path, index=False)\n",
    "\n",
    "new_export_path"
   ]
  }
 ],
 "metadata": {
  "kernelspec": {
   "display_name": "Python 3.8.18 ('new_env')",
   "language": "python",
   "name": "python3"
  },
  "language_info": {
   "codemirror_mode": {
    "name": "ipython",
    "version": 3
   },
   "file_extension": ".py",
   "mimetype": "text/x-python",
   "name": "python",
   "nbconvert_exporter": "python",
   "pygments_lexer": "ipython3",
   "version": "3.8.18"
  },
  "orig_nbformat": 4,
  "vscode": {
   "interpreter": {
    "hash": "f53260004385f87680f25ec8e2e4c3528b7ac8fba907c7fa171a3bff32d809b2"
   }
  }
 },
 "nbformat": 4,
 "nbformat_minor": 2
}
