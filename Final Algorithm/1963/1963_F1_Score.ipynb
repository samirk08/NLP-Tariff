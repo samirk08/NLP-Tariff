{
 "cells": [
  {
   "cell_type": "code",
   "execution_count": 4,
   "metadata": {},
   "outputs": [],
   "source": [
    "import pandas as pd\n",
    "from sklearn.metrics import f1_score"
   ]
  },
  {
   "cell_type": "code",
   "execution_count": 5,
   "metadata": {},
   "outputs": [],
   "source": [
    "import pandas as pd\n",
    "\n",
    "def load_and_prepare_data(excel_path, csv_path):\n",
    "    # Load the Excel and CSV files\n",
    "    df_excel = pd.read_excel(excel_path)\n",
    "    df_csv = pd.read_csv(csv_path)\n",
    "    # Rename column in the CSV DataFrame\n",
    "    df_csv.rename(columns={'1963 Item': 'Article'}, inplace=True)\n",
    "    return df_excel, df_csv\n",
    "\n",
    "def filter_sort_and_remove_duplicates(df_excel, df_csv):\n",
    "    # Filter out unwanted rows and sort DataFrames\n",
    "    df_excel_filtered = df_excel[~df_excel['Article'].isin(['Missing description', 'Other'])]\n",
    "    df_excel_sorted = df_excel_filtered.sort_values(by='Article')\n",
    "    df_csv_sorted = df_csv.sort_values(by='Article')\n",
    "    # Merge and remove duplicates based on 'ProductDescription'\n",
    "    merged_df = pd.merge(df_excel_sorted, df_csv_sorted, on='Article', how='inner')\n",
    "    merged_df_unique = merged_df.drop_duplicates(subset=['Article'], keep='first')\n",
    "    return merged_df_unique\n",
    "\n",
    "def calculate_f1_score(row, digit):\n",
    "    try:\n",
    "        actual_code = str(row['HTS Code']).zfill(8)[:digit]\n",
    "        predicted_code = str(row['Final Predicted HS Code']).zfill(8)[:digit]\n",
    "        return 1 if actual_code == predicted_code else 0\n",
    "    except (ValueError, TypeError):\n",
    "        return 0\n",
    "\n",
    "def apply_f1_scores_and_finalize(merged_df_unique):\n",
    "    # Apply F1 score calculation\n",
    "    for digits in [2, 4, 6]:\n",
    "        merged_df_unique[f'F1_{digits}digit'] = merged_df_unique.apply(calculate_f1_score, axis=1, args=(digits,))\n",
    "    # Prepare final output\n",
    "    final_columns = ['Article', 'HTS Code', 'Final Predicted HS Code', 'Final Confidence Level',\n",
    "                     'F1_2digit', 'F1_4digit', 'F1_6digit']\n",
    "    final_output_df = merged_df_unique[final_columns]\n",
    "    return final_output_df"
   ]
  },
  {
   "cell_type": "code",
   "execution_count": 6,
   "metadata": {},
   "outputs": [
    {
     "name": "stdout",
     "output_type": "stream",
     "text": [
      "Final output saved to 1990_HS_Comparison.csv\n"
     ]
    }
   ],
   "source": [
    "if __name__ == '__main__':\n",
    "    excel_path = '/home/samirk08/UROP_SPRING_2024/1963/updated_1963Sample_with_hts.xlsx'\n",
    "    csv_path = '/home/samirk08/UROP_SPRING_2024/1963/1963_SAMPLE_HYBRID.csv'\n",
    "    \n",
    "    df_excel, df_csv = load_and_prepare_data(excel_path, csv_path)\n",
    "    merged_df_unique = filter_sort_and_remove_duplicates(df_excel, df_csv)\n",
    "    final_output_df = apply_f1_scores_and_finalize(merged_df_unique)\n",
    "    \n",
    "    # Save to CSV\n",
    "    output_csv_path = '1963_HS_Comparison.csv'\n",
    "    final_output_df.to_csv(output_csv_path, index=False)\n",
    "    \n",
    "    print(f'Final output saved to {output_csv_path}')"
   ]
  }
 ],
 "metadata": {
  "kernelspec": {
   "display_name": "Python 3.9.6 64-bit",
   "language": "python",
   "name": "python3"
  },
  "language_info": {
   "codemirror_mode": {
    "name": "ipython",
    "version": 3
   },
   "file_extension": ".py",
   "mimetype": "text/x-python",
   "name": "python",
   "nbconvert_exporter": "python",
   "pygments_lexer": "ipython3",
   "version": "3.6.9"
  },
  "orig_nbformat": 4,
  "vscode": {
   "interpreter": {
    "hash": "31f2aee4e71d21fbe5cf8b01ff0e069b9275f58929596ceb00d14d90e3e16cd6"
   }
  }
 },
 "nbformat": 4,
 "nbformat_minor": 2
}
