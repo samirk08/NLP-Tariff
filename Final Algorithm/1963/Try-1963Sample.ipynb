{
 "cells": [
  {
   "cell_type": "code",
   "execution_count": 2,
   "metadata": {},
   "outputs": [],
   "source": [
    "import pandas as pd\n",
    "\n",
    "# Load the data\n",
    "df_1963_sample = pd.read_excel('/home/samirk08/UROP_SPRING_2024/1963/1963-1000Sample.xlsx')\n",
    "tsus_hts_df = pd.read_excel('/home/samirk08/UROP_SPRING_2024/UROP IAP 2024/Original Databases/HTS_TSUS.xlsx')\n",
    "\n",
    "# Helper function to sanitize the 'Item' values\n",
    "def sanitize_item(item):\n",
    "    try:\n",
    "        # Attempt to remove decimal and convert to int\n",
    "        return int(float(item) * 100)\n",
    "    except ValueError:\n",
    "        # Handle cases with non-numeric text\n",
    "        # Extract the numeric part before the space or '--' if present\n",
    "        numeric_part = item.split()[0].split('--')[0]\n",
    "        try:\n",
    "            # Now try to convert this cleaned numeric part to an integer\n",
    "            return int(float(numeric_part) * 100)\n",
    "        except ValueError:\n",
    "            # If still not convertible, return None or a specific flag\n",
    "            return None\n",
    "\n",
    "# Apply the sanitization function to the 'Item' column\n",
    "df_1963_sample['Item'] = df_1963_sample['Item'].apply(sanitize_item)\n",
    "\n",
    "# Step 2 and 3: Find the closest TSUS match and retrieve corresponding HTS code\n",
    "def find_closest_tsus_and_hts(item_code):\n",
    "    # Ensure item_code is not None\n",
    "    if item_code is None:\n",
    "        return None\n",
    "    # Convert TSUS codes to string for matching\n",
    "    tsus_hts_df['TSUS_str'] = tsus_hts_df['TSUS'].astype(str)\n",
    "    # Get the length of the item_code to use in matching\n",
    "    item_code_len = len(str(item_code))\n",
    "    # Find the closest TSUS match by matching the first n characters where n is the length of the item_code\n",
    "    closest_tsus = tsus_hts_df[tsus_hts_df['TSUS_str'].str.startswith(str(item_code))]['TSUS'].values\n",
    "    if closest_tsus.size > 0:\n",
    "        # If there are multiple matches, choose the first one\n",
    "        tsus_code = closest_tsus[0]\n",
    "        # Get the corresponding HTS code for the closest TSUS match\n",
    "        hts_code = tsus_hts_df[tsus_hts_df['TSUS'] == tsus_code]['HTS'].values[0]\n",
    "        return hts_code\n",
    "    else:\n",
    "        # If no match found, return None or a placeholder value\n",
    "        return None\n",
    "\n",
    "# Apply the function to each 'Item' in the DataFrame\n",
    "df_1963_sample['HTS Code'] = df_1963_sample['Item'].apply(find_closest_tsus_and_hts)\n",
    "\n",
    "# Step 4: Save the updated DataFrame to a new Excel file\n",
    "output_path = '/home/samirk08/UROP_SPRING_2024/1963/updated_1963Sample_with_hts.xlsx'\n",
    "df_1963_sample.to_excel(output_path, index=False)\n"
   ]
  },
  {
   "cell_type": "markdown",
   "metadata": {},
   "source": []
  }
 ],
 "metadata": {
  "kernelspec": {
   "display_name": "Python 3",
   "language": "python",
   "name": "python3"
  },
  "language_info": {
   "codemirror_mode": {
    "name": "ipython",
    "version": 3
   },
   "file_extension": ".py",
   "mimetype": "text/x-python",
   "name": "python",
   "nbconvert_exporter": "python",
   "pygments_lexer": "ipython3",
   "version": "3.8.18"
  }
 },
 "nbformat": 4,
 "nbformat_minor": 2
}
