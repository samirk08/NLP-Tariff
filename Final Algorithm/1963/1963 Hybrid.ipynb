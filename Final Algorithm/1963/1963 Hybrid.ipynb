{
 "cells": [
  {
   "cell_type": "code",
   "execution_count": 1,
   "metadata": {},
   "outputs": [],
   "source": [
    "import pandas as pd"
   ]
  },
  {
   "cell_type": "code",
   "execution_count": 2,
   "metadata": {},
   "outputs": [],
   "source": [
    "def process_files(gpt_sample_path, hf_sample_path, output_path):\n",
    "    # Load the files\n",
    "    gpt_df = pd.read_csv(gpt_sample_path)\n",
    "    hf_df = pd.read_csv(hf_sample_path)\n",
    "\n",
    "    # Filter out \"Missing description\" and \"Other\" in \"1963 Item\" column\n",
    "    gpt_df_filtered = gpt_df[~gpt_df['1963 Item'].str.contains(\"Missing description|Other\", case=False, na=False)]\n",
    "    hf_df_filtered = hf_df[~hf_df['1963 Item'].str.contains(\"Missing description|Other\", case=False, na=False)]\n",
    "\n",
    "    # Sort the filtered dataframes\n",
    "    gpt_df_filtered_sorted = gpt_df_filtered.sort_values(by=\"1963 Item\")\n",
    "    hf_df_filtered_sorted = hf_df_filtered.sort_values(by=\"1963 Item\")\n",
    "\n",
    "    # Merge the filtered and sorted dataframes on \"1963 Item\"\n",
    "    merged_filtered_df = pd.merge(gpt_df_filtered_sorted, hf_df_filtered_sorted, on=\"1963 Item\", suffixes=('_GPT', '_HF'))\n",
    "\n",
    "    # Determine the higher confidence score for each item\n",
    "    merged_filtered_df['Higher Confidence Source'] = merged_filtered_df.apply(\n",
    "        lambda x: 'GPT' if x['Confidence Score_GPT'] > x['Confidence Score_HF'] else 'HF', axis=1\n",
    "    )\n",
    "\n",
    "    # Include a column for the final confidence level\n",
    "    merged_filtered_df['Final Confidence Level'] = merged_filtered_df.apply(\n",
    "        lambda x: x['Confidence Score_GPT'] if x['Higher Confidence Source'] == 'GPT' else x['Confidence Score_HF'], axis=1\n",
    "    )\n",
    "\n",
    "    # Select data based on the higher confidence score\n",
    "    final_filtered_df = merged_filtered_df[['1963 Item', 'Predicted HS Code_GPT', 'Predicted HS Code_HF', 'Higher Confidence Source', 'Final Confidence Level']].copy()\n",
    "    final_filtered_df['Final Predicted HS Code'] = merged_filtered_df.apply(\n",
    "        lambda x: x['Predicted HS Code_GPT'] if x['Higher Confidence Source'] == 'GPT' else x['Predicted HS Code_HF'], axis=1\n",
    "    )\n",
    "\n",
    "    # Drop the separate HS Code columns\n",
    "    final_filtered_df = final_filtered_df.drop(['Predicted HS Code_GPT', 'Predicted HS Code_HF'], axis=1)\n",
    "\n",
    "    # Save to the specified output path\n",
    "    final_filtered_df.to_csv(output_path, index=False)\n",
    "\n",
    "    return output_path"
   ]
  },
  {
   "cell_type": "code",
   "execution_count": null,
   "metadata": {},
   "outputs": [],
   "source": [
    "tariff_db_2022 = pd.read_excel('/home/samirk08/UROP_SPRING_2024/UROP IAP 2024/Original Databases/tariff database_202305.xlsx')\n"
   ]
  },
  {
   "cell_type": "code",
   "execution_count": 3,
   "metadata": {},
   "outputs": [],
   "source": [
    "def get_2022_description(hs_code):\n",
    "    # Find the description for the given HS code in the 2022 tariff database\n",
    "    matched_row = tariff_db_2022[tariff_db_2022['HS Code'] == hs_code]\n",
    "    if not matched_row.empty:\n",
    "        # Return the description if found\n",
    "        return matched_row.iloc[0]['Description']\n",
    "    else:\n",
    "        # Return None or a default description if not found\n",
    "        return None\n",
    "\n",
    "# Function to process files and map to 2022 descriptions\n",
    "def process_files_with_description(gpt_sample_path, hf_sample_path, tariff_db_path, output_path):\n",
    "    # Call the existing function to process the files\n",
    "    final_output_path = process_files(gpt_sample_path, hf_sample_path, output_path)\n",
    "    \n",
    "    # Load the result\n",
    "    final_df = pd.read_csv(final_output_path)\n",
    "\n",
    "    # Load the 2022 tariff database\n",
    "    tariff_db_2022 = pd.read_excel(tariff_db_path)\n",
    "\n",
    "    # Map each HS code to its 2022 description\n",
    "    final_df['2022 Description'] = final_df['Final Predicted HS Code'].apply(get_2022_description)\n",
    "\n",
    "    # Save the updated DataFrame to a new CSV file\n",
    "    final_df.to_csv(final_output_path, index=False)\n",
    "    return final_output_path"
   ]
  },
  {
   "cell_type": "code",
   "execution_count": 4,
   "metadata": {},
   "outputs": [],
   "source": [
    "# Paths to your files\n",
    "gpt_sample_path = '/home/samirk08/UROP_SPRING_2024/1963/1963_GPT_Samlpe.csv'\n",
    "hf_sample_path = '/home/samirk08/UROP_SPRING_2024/1963/HF_1963_Sample.csv'\n",
    "tariff_db_path = '/home/samirk08/UROP_SPRING_2024/UROP IAP 2024/Original Databases/tariff database_202305.xlsx'\n",
    "output_path = '1963_SAMPLE_HYBRID.csv'"
   ]
  },
  {
   "cell_type": "code",
   "execution_count": 5,
   "metadata": {},
   "outputs": [
    {
     "ename": "NameError",
     "evalue": "name 'tariff_db_2022' is not defined",
     "output_type": "error",
     "traceback": [
      "\u001b[0;31m---------------------------------------------------------------------------\u001b[0m",
      "\u001b[0;31mNameError\u001b[0m                                 Traceback (most recent call last)",
      "Cell \u001b[0;32mIn[5], line 1\u001b[0m\n\u001b[0;32m----> 1\u001b[0m final_output_path \u001b[38;5;241m=\u001b[39m \u001b[43mprocess_files_with_description\u001b[49m\u001b[43m(\u001b[49m\u001b[43mgpt_sample_path\u001b[49m\u001b[43m,\u001b[49m\u001b[43m \u001b[49m\u001b[43mhf_sample_path\u001b[49m\u001b[43m,\u001b[49m\u001b[43m \u001b[49m\u001b[43mtariff_db_path\u001b[49m\u001b[43m,\u001b[49m\u001b[43m \u001b[49m\u001b[43moutput_path\u001b[49m\u001b[43m)\u001b[49m\n\u001b[1;32m      2\u001b[0m \u001b[38;5;28mprint\u001b[39m(\u001b[38;5;124mf\u001b[39m\u001b[38;5;124m\"\u001b[39m\u001b[38;5;124mOutput with descriptions saved to: \u001b[39m\u001b[38;5;132;01m{\u001b[39;00mfinal_output_path\u001b[38;5;132;01m}\u001b[39;00m\u001b[38;5;124m\"\u001b[39m)\n",
      "Cell \u001b[0;32mIn[3], line 23\u001b[0m, in \u001b[0;36mprocess_files_with_description\u001b[0;34m(gpt_sample_path, hf_sample_path, tariff_db_path, output_path)\u001b[0m\n\u001b[1;32m     20\u001b[0m tariff_db_2022 \u001b[38;5;241m=\u001b[39m pd\u001b[38;5;241m.\u001b[39mread_excel(tariff_db_path)\n\u001b[1;32m     22\u001b[0m \u001b[38;5;66;03m# Map each HS code to its 2022 description\u001b[39;00m\n\u001b[0;32m---> 23\u001b[0m final_df[\u001b[38;5;124m'\u001b[39m\u001b[38;5;124m2022 Description\u001b[39m\u001b[38;5;124m'\u001b[39m] \u001b[38;5;241m=\u001b[39m \u001b[43mfinal_df\u001b[49m\u001b[43m[\u001b[49m\u001b[38;5;124;43m'\u001b[39;49m\u001b[38;5;124;43mFinal Predicted HS Code\u001b[39;49m\u001b[38;5;124;43m'\u001b[39;49m\u001b[43m]\u001b[49m\u001b[38;5;241;43m.\u001b[39;49m\u001b[43mapply\u001b[49m\u001b[43m(\u001b[49m\u001b[43mget_2022_description\u001b[49m\u001b[43m)\u001b[49m\n\u001b[1;32m     25\u001b[0m \u001b[38;5;66;03m# Save the updated DataFrame to a new CSV file\u001b[39;00m\n\u001b[1;32m     26\u001b[0m final_df\u001b[38;5;241m.\u001b[39mto_csv(final_output_path, index\u001b[38;5;241m=\u001b[39m\u001b[38;5;28;01mFalse\u001b[39;00m)\n",
      "File \u001b[0;32m~/.pyenv/versions/3.8.18/lib/python3.8/site-packages/pandas/core/series.py:4630\u001b[0m, in \u001b[0;36mSeries.apply\u001b[0;34m(self, func, convert_dtype, args, **kwargs)\u001b[0m\n\u001b[1;32m   4520\u001b[0m \u001b[38;5;28;01mdef\u001b[39;00m \u001b[38;5;21mapply\u001b[39m(\n\u001b[1;32m   4521\u001b[0m     \u001b[38;5;28mself\u001b[39m,\n\u001b[1;32m   4522\u001b[0m     func: AggFuncType,\n\u001b[0;32m   (...)\u001b[0m\n\u001b[1;32m   4525\u001b[0m     \u001b[38;5;241m*\u001b[39m\u001b[38;5;241m*\u001b[39mkwargs,\n\u001b[1;32m   4526\u001b[0m ) \u001b[38;5;241m-\u001b[39m\u001b[38;5;241m>\u001b[39m DataFrame \u001b[38;5;241m|\u001b[39m Series:\n\u001b[1;32m   4527\u001b[0m \u001b[38;5;250m    \u001b[39m\u001b[38;5;124;03m\"\"\"\u001b[39;00m\n\u001b[1;32m   4528\u001b[0m \u001b[38;5;124;03m    Invoke function on values of Series.\u001b[39;00m\n\u001b[1;32m   4529\u001b[0m \n\u001b[0;32m   (...)\u001b[0m\n\u001b[1;32m   4628\u001b[0m \u001b[38;5;124;03m    dtype: float64\u001b[39;00m\n\u001b[1;32m   4629\u001b[0m \u001b[38;5;124;03m    \"\"\"\u001b[39;00m\n\u001b[0;32m-> 4630\u001b[0m     \u001b[38;5;28;01mreturn\u001b[39;00m \u001b[43mSeriesApply\u001b[49m\u001b[43m(\u001b[49m\u001b[38;5;28;43mself\u001b[39;49m\u001b[43m,\u001b[49m\u001b[43m \u001b[49m\u001b[43mfunc\u001b[49m\u001b[43m,\u001b[49m\u001b[43m \u001b[49m\u001b[43mconvert_dtype\u001b[49m\u001b[43m,\u001b[49m\u001b[43m \u001b[49m\u001b[43margs\u001b[49m\u001b[43m,\u001b[49m\u001b[43m \u001b[49m\u001b[43mkwargs\u001b[49m\u001b[43m)\u001b[49m\u001b[38;5;241;43m.\u001b[39;49m\u001b[43mapply\u001b[49m\u001b[43m(\u001b[49m\u001b[43m)\u001b[49m\n",
      "File \u001b[0;32m~/.pyenv/versions/3.8.18/lib/python3.8/site-packages/pandas/core/apply.py:1025\u001b[0m, in \u001b[0;36mSeriesApply.apply\u001b[0;34m(self)\u001b[0m\n\u001b[1;32m   1022\u001b[0m     \u001b[38;5;28;01mreturn\u001b[39;00m \u001b[38;5;28mself\u001b[39m\u001b[38;5;241m.\u001b[39mapply_str()\n\u001b[1;32m   1024\u001b[0m \u001b[38;5;66;03m# self.f is Callable\u001b[39;00m\n\u001b[0;32m-> 1025\u001b[0m \u001b[38;5;28;01mreturn\u001b[39;00m \u001b[38;5;28;43mself\u001b[39;49m\u001b[38;5;241;43m.\u001b[39;49m\u001b[43mapply_standard\u001b[49m\u001b[43m(\u001b[49m\u001b[43m)\u001b[49m\n",
      "File \u001b[0;32m~/.pyenv/versions/3.8.18/lib/python3.8/site-packages/pandas/core/apply.py:1076\u001b[0m, in \u001b[0;36mSeriesApply.apply_standard\u001b[0;34m(self)\u001b[0m\n\u001b[1;32m   1074\u001b[0m     \u001b[38;5;28;01melse\u001b[39;00m:\n\u001b[1;32m   1075\u001b[0m         values \u001b[38;5;241m=\u001b[39m obj\u001b[38;5;241m.\u001b[39mastype(\u001b[38;5;28mobject\u001b[39m)\u001b[38;5;241m.\u001b[39m_values\n\u001b[0;32m-> 1076\u001b[0m         mapped \u001b[38;5;241m=\u001b[39m \u001b[43mlib\u001b[49m\u001b[38;5;241;43m.\u001b[39;49m\u001b[43mmap_infer\u001b[49m\u001b[43m(\u001b[49m\n\u001b[1;32m   1077\u001b[0m \u001b[43m            \u001b[49m\u001b[43mvalues\u001b[49m\u001b[43m,\u001b[49m\n\u001b[1;32m   1078\u001b[0m \u001b[43m            \u001b[49m\u001b[43mf\u001b[49m\u001b[43m,\u001b[49m\n\u001b[1;32m   1079\u001b[0m \u001b[43m            \u001b[49m\u001b[43mconvert\u001b[49m\u001b[38;5;241;43m=\u001b[39;49m\u001b[38;5;28;43mself\u001b[39;49m\u001b[38;5;241;43m.\u001b[39;49m\u001b[43mconvert_dtype\u001b[49m\u001b[43m,\u001b[49m\n\u001b[1;32m   1080\u001b[0m \u001b[43m        \u001b[49m\u001b[43m)\u001b[49m\n\u001b[1;32m   1082\u001b[0m \u001b[38;5;28;01mif\u001b[39;00m \u001b[38;5;28mlen\u001b[39m(mapped) \u001b[38;5;129;01mand\u001b[39;00m \u001b[38;5;28misinstance\u001b[39m(mapped[\u001b[38;5;241m0\u001b[39m], ABCSeries):\n\u001b[1;32m   1083\u001b[0m     \u001b[38;5;66;03m# GH#43986 Need to do list(mapped) in order to get treated as nested\u001b[39;00m\n\u001b[1;32m   1084\u001b[0m     \u001b[38;5;66;03m#  See also GH#25959 regarding EA support\u001b[39;00m\n\u001b[1;32m   1085\u001b[0m     \u001b[38;5;28;01mreturn\u001b[39;00m obj\u001b[38;5;241m.\u001b[39m_constructor_expanddim(\u001b[38;5;28mlist\u001b[39m(mapped), index\u001b[38;5;241m=\u001b[39mobj\u001b[38;5;241m.\u001b[39mindex)\n",
      "File \u001b[0;32m~/.pyenv/versions/3.8.18/lib/python3.8/site-packages/pandas/_libs/lib.pyx:2834\u001b[0m, in \u001b[0;36mpandas._libs.lib.map_infer\u001b[0;34m()\u001b[0m\n",
      "Cell \u001b[0;32mIn[3], line 3\u001b[0m, in \u001b[0;36mget_2022_description\u001b[0;34m(hs_code)\u001b[0m\n\u001b[1;32m      1\u001b[0m \u001b[38;5;28;01mdef\u001b[39;00m \u001b[38;5;21mget_2022_description\u001b[39m(hs_code):\n\u001b[1;32m      2\u001b[0m     \u001b[38;5;66;03m# Find the description for the given HS code in the 2022 tariff database\u001b[39;00m\n\u001b[0;32m----> 3\u001b[0m     matched_row \u001b[38;5;241m=\u001b[39m \u001b[43mtariff_db_2022\u001b[49m[tariff_db_2022[\u001b[38;5;124m'\u001b[39m\u001b[38;5;124mHS Code\u001b[39m\u001b[38;5;124m'\u001b[39m] \u001b[38;5;241m==\u001b[39m hs_code]\n\u001b[1;32m      4\u001b[0m     \u001b[38;5;28;01mif\u001b[39;00m \u001b[38;5;129;01mnot\u001b[39;00m matched_row\u001b[38;5;241m.\u001b[39mempty:\n\u001b[1;32m      5\u001b[0m         \u001b[38;5;66;03m# Return the description if found\u001b[39;00m\n\u001b[1;32m      6\u001b[0m         \u001b[38;5;28;01mreturn\u001b[39;00m matched_row\u001b[38;5;241m.\u001b[39miloc[\u001b[38;5;241m0\u001b[39m][\u001b[38;5;124m'\u001b[39m\u001b[38;5;124mDescription\u001b[39m\u001b[38;5;124m'\u001b[39m]\n",
      "\u001b[0;31mNameError\u001b[0m: name 'tariff_db_2022' is not defined"
     ]
    }
   ],
   "source": [
    "final_output_path = process_files_with_description(gpt_sample_path, hf_sample_path, tariff_db_path, output_path)\n",
    "print(f\"Output with descriptions saved to: {final_output_path}\")\n"
   ]
  }
 ],
 "metadata": {
  "kernelspec": {
   "display_name": "Python 3.9.6 64-bit",
   "language": "python",
   "name": "python3"
  },
  "language_info": {
   "codemirror_mode": {
    "name": "ipython",
    "version": 3
   },
   "file_extension": ".py",
   "mimetype": "text/x-python",
   "name": "python",
   "nbconvert_exporter": "python",
   "pygments_lexer": "ipython3",
   "version": "3.8.18"
  },
  "orig_nbformat": 4,
  "vscode": {
   "interpreter": {
    "hash": "31f2aee4e71d21fbe5cf8b01ff0e069b9275f58929596ceb00d14d90e3e16cd6"
   }
  }
 },
 "nbformat": 4,
 "nbformat_minor": 2
}
