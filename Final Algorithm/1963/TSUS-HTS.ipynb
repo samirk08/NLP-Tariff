{
 "cells": [
  {
   "cell_type": "code",
   "execution_count": 9,
   "metadata": {},
   "outputs": [
    {
     "name": "stdout",
     "output_type": "stream",
     "text": [
      "No HTS code found for the provided TSUS code.\n"
     ]
    }
   ],
   "source": [
    "import pandas as pd\n",
    "# Load the TSUS to HTS conversion Excel file and the 1989 database\n",
    "tsus_hts_df = pd.read_excel('/home/samirk08/UROP_SPRING_2024/UROP IAP 2024/Original Databases/HTS_TSUS.xlsx')\n",
    "df_1989 = pd.read_excel(\"/home/samirk08/UROP_SPRING_2024/UROP IAP 2024/Original Databases/1989 (Done_AZ).xlsx\")\n",
    "def strip_leading_zeros(code):\n",
    "    try:\n",
    "        # convert int to str to remove leading zeros and then back to int\n",
    "        return str(int(code))\n",
    "    except ValueError:\n",
    "        # if str, return str with leading zeros removed\n",
    "        return code\n",
    "def map_tsus_to_hts(tsus_code):\n",
    "    tsus_code = strip_leading_zeros(str(tsus_code))\n",
    "    # match TSUS to HTS\n",
    "    matched_row = tsus_hts_df[tsus_hts_df['TSUS'].apply(strip_leading_zeros) == tsus_code]\n",
    "    if not matched_row.empty:\n",
    "        hts_code = matched_row.iloc[0]['HTS']\n",
    "        return strip_leading_zeros(hts_code)\n",
    "    else:\n",
    "        return None\n",
    "def find_hts_description(hts_code, df_1989):\n",
    "    hts_code = strip_leading_zeros(str(hts_code))\n",
    "    # match HTS to description\n",
    "    matched_row = df_1989[df_1989['ProductCode'].apply(strip_leading_zeros) == hts_code]\n",
    "    if not matched_row.empty:\n",
    "        description = matched_row.iloc[0]['ProductDescription']\n",
    "        return description\n",
    "    else:\n",
    "        return None\n",
    "# user input for TSUS code\n",
    "user_tsus_code = input(\"Enter an older TSUS code: \")\n",
    "\n",
    "# map TSUS to HTS code\n",
    "hts_code = map_tsus_to_hts(user_tsus_code)\n",
    "\n",
    "if hts_code:\n",
    "    # find the associated description in the 1989 database\n",
    "    description = find_hts_description(hts_code, df_1989)\n",
    "    if description:\n",
    "        print(f\"HTS Code: {hts_code}, Description: {description}\")\n",
    "    else:\n",
    "        print(\"No description found for the HTS code in the 1989 database.\")\n",
    "else:\n",
    "    print(\"No HTS code found for the provided TSUS code.\")"
   ]
  }
 ],
 "metadata": {
  "kernelspec": {
   "display_name": "Python 3",
   "language": "python",
   "name": "python3"
  },
  "language_info": {
   "codemirror_mode": {
    "name": "ipython",
    "version": 3
   },
   "file_extension": ".py",
   "mimetype": "text/x-python",
   "name": "python",
   "nbconvert_exporter": "python",
   "pygments_lexer": "ipython3",
   "version": "3.8.18"
  }
 },
 "nbformat": 4,
 "nbformat_minor": 2
}
