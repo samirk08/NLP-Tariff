{
 "cells": [
  {
   "cell_type": "code",
   "execution_count": 1,
   "metadata": {},
   "outputs": [],
   "source": [
    "import pandas as pd"
   ]
  },
  {
   "cell_type": "code",
   "execution_count": 2,
   "metadata": {},
   "outputs": [],
   "source": [
    "def process_files(gpt_sample_path, hf_sample_path, output_path):\n",
    "    # Load the files\n",
    "    gpt_df = pd.read_csv(gpt_sample_path)\n",
    "    hf_df = pd.read_csv(hf_sample_path)\n",
    "\n",
    "    # Filter out \"Missing description\" and \"Other\" in \"1990 Item\" column\n",
    "    gpt_df_filtered = gpt_df[~gpt_df['1990 Item'].str.contains(\"Missing description|Other\", case=False, na=False)]\n",
    "    hf_df_filtered = hf_df[~hf_df['1990 Item'].str.contains(\"Missing description|Other\", case=False, na=False)]\n",
    "\n",
    "    # Sort the filtered dataframes\n",
    "    gpt_df_filtered_sorted = gpt_df_filtered.sort_values(by=\"1990 Item\")\n",
    "    hf_df_filtered_sorted = hf_df_filtered.sort_values(by=\"1990 Item\")\n",
    "\n",
    "    # Merge the filtered and sorted dataframes on \"1990 Item\"\n",
    "    merged_filtered_df = pd.merge(gpt_df_filtered_sorted, hf_df_filtered_sorted, on=\"1990 Item\", suffixes=('_GPT', '_HF'))\n",
    "\n",
    "    # Determine the higher confidence score for each item\n",
    "    merged_filtered_df['Higher Confidence Source'] = merged_filtered_df.apply(\n",
    "        lambda x: 'GPT' if x['Confidence Score_GPT'] > x['Confidence Score_HF'] else 'HF', axis=1\n",
    "    )\n",
    "\n",
    "    # Include a column for the final confidence level\n",
    "    merged_filtered_df['Final Confidence Level'] = merged_filtered_df.apply(\n",
    "        lambda x: x['Confidence Score_GPT'] if x['Higher Confidence Source'] == 'GPT' else x['Confidence Score_HF'], axis=1\n",
    "    )\n",
    "\n",
    "    # Select data based on the higher confidence score\n",
    "    final_filtered_df = merged_filtered_df[['1990 Item', 'Predicted HS Code_GPT', 'Predicted HS Code_HF', 'Higher Confidence Source', 'Final Confidence Level']].copy()\n",
    "    final_filtered_df['Final Predicted HS Code'] = merged_filtered_df.apply(\n",
    "        lambda x: x['Predicted HS Code_GPT'] if x['Higher Confidence Source'] == 'GPT' else x['Predicted HS Code_HF'], axis=1\n",
    "    )\n",
    "\n",
    "    # Drop the separate HS Code columns\n",
    "    final_filtered_df = final_filtered_df.drop(['Predicted HS Code_GPT', 'Predicted HS Code_HF'], axis=1)\n",
    "\n",
    "    # Save to the specified output path\n",
    "    final_filtered_df.to_csv(output_path, index=False)\n",
    "\n",
    "    return output_path"
   ]
  },
  {
   "cell_type": "code",
   "execution_count": 3,
   "metadata": {},
   "outputs": [
    {
     "name": "stdout",
     "output_type": "stream",
     "text": [
      "Output saved to: 1990_SAMPLE_HYBRID.csv\n"
     ]
    }
   ],
   "source": [
    "output_path = process_files('/home/samirk08/UROP_SPRING_2024/1990/1990_GPT_Samlpe.csv', '/home/samirk08/UROP_SPRING_2024/1990/HF_1990_Sample.csv', '1990_SAMPLE_HYBRID.csv')\n",
    "print(f\"Output saved to: {output_path}\")"
   ]
  }
 ],
 "metadata": {
  "kernelspec": {
   "display_name": "Python 3.9.6 64-bit",
   "language": "python",
   "name": "python3"
  },
  "language_info": {
   "codemirror_mode": {
    "name": "ipython",
    "version": 3
   },
   "file_extension": ".py",
   "mimetype": "text/x-python",
   "name": "python",
   "nbconvert_exporter": "python",
   "pygments_lexer": "ipython3",
   "version": "3.6.9"
  },
  "orig_nbformat": 4,
  "vscode": {
   "interpreter": {
    "hash": "31f2aee4e71d21fbe5cf8b01ff0e069b9275f58929596ceb00d14d90e3e16cd6"
   }
  }
 },
 "nbformat": 4,
 "nbformat_minor": 2
}
