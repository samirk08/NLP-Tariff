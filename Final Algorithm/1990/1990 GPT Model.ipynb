{
 "cells": [
  {
   "cell_type": "code",
   "execution_count": 1,
   "metadata": {},
   "outputs": [
    {
     "name": "stderr",
     "output_type": "stream",
     "text": [
      "/home/samirk08/.pyenv/versions/3.8.18/lib/python3.8/site-packages/tqdm/auto.py:21: TqdmWarning: IProgress not found. Please update jupyter and ipywidgets. See https://ipywidgets.readthedocs.io/en/stable/user_install.html\n",
      "  from .autonotebook import tqdm as notebook_tqdm\n",
      "/home/samirk08/.pyenv/versions/3.8.18/lib/python3.8/site-packages/fuzzywuzzy/fuzz.py:11: UserWarning: Using slow pure-python SequenceMatcher. Install python-Levenshtein to remove this warning\n",
      "  warnings.warn('Using slow pure-python SequenceMatcher. Install python-Levenshtein to remove this warning')\n"
     ]
    }
   ],
   "source": [
    "import pandas as pd\n",
    "import numpy as np\n",
    "import os\n",
    "import openai\n",
    "from openai import OpenAI\n",
    "from tenacity import retry, wait_exponential, stop_after_attempt\n",
    "from concurrent.futures import ThreadPoolExecutor, as_completed  # Make sure as_completed is imported here\n",
    "import logging\n",
    "from sentence_transformers import SentenceTransformer, util\n",
    "from functools import partial\n",
    "from fuzzywuzzy import fuzz\n",
    "import torch\n"
   ]
  },
  {
   "cell_type": "code",
   "execution_count": 2,
   "metadata": {},
   "outputs": [
    {
     "name": "stderr",
     "output_type": "stream",
     "text": [
      "/home/samirk08/.pyenv/versions/3.8.18/lib/python3.8/site-packages/torch/cuda/__init__.py:141: UserWarning: CUDA initialization: The NVIDIA driver on your system is too old (found version 10010). Please update your GPU driver by downloading and installing a new version from the URL: http://www.nvidia.com/Download/index.aspx Alternatively, go to: https://pytorch.org to install a PyTorch version that has been compiled with your version of the CUDA driver. (Triggered internally at ../c10/cuda/CUDAFunctions.cpp:108.)\n",
      "  return torch._C._cuda_getDeviceCount() > 0\n"
     ]
    }
   ],
   "source": [
    "# Assuming the GPU is available, ensure PyTorch uses it.\n",
    "device = \"cuda\" if torch.cuda.is_available() else \"cpu\"\n",
    "\n",
    "# Initialize the SentenceTransformer model and move it to the appropriate device\n",
    "model = SentenceTransformer('all-MiniLM-L6-v2').to(device)\n",
    "\n",
    "# Set your OpenAI API key as an environment variable for security\n",
    "os.environ[\"TOKENIZERS_PARALLELISM\"] = \"false\"\n",
    "api_key = \"\"  # Make sure to use your own API key\n",
    "os.environ[\"OPENAI_API_KEY\"] = api_key\n",
    "client = OpenAI()\n",
    "\n",
    "# File paths\n",
    "file_2023 = '/home/samirk08/UROP_SPRING_2024/UROP IAP 2024/Original Databases/tariff database_202305.xlsx'  # Update this path\n",
    "file_1990 = '/home/samirk08/UROP_SPRING_2024/1990/1000_1990.xlsx'  # Update this path\n",
    "\n",
    "# Load the data\n",
    "df_2023 = pd.read_excel(file_2023)\n",
    "df_1990 = pd.read_excel(file_1990)\n",
    "\n",
    "description_cache = {}"
   ]
  },
  {
   "cell_type": "code",
   "execution_count": 3,
   "metadata": {},
   "outputs": [],
   "source": [
    "@retry(wait=wait_exponential(multiplier=1, min=4, max=10), stop=stop_after_attempt(50))\n",
    "def ask_gpt(prompt, system_prompt, model_name=\"gpt-4\"):\n",
    "    response = client.chat.completions.create(model=model_name,\n",
    "                                              messages=[\n",
    "                                                  {\"role\": \"system\", \"content\": system_prompt},\n",
    "                                                  {\"role\": \"user\", \"content\": prompt}\n",
    "                                              ],\n",
    "                                              max_tokens=300,\n",
    "                                              temperature=0.0)\n",
    "    return response.choices[0].message.content.strip()"
   ]
  },
  {
   "cell_type": "code",
   "execution_count": 4,
   "metadata": {},
   "outputs": [],
   "source": [
    "def batch_encode_descriptions(descriptions, model, batch_size=32):\n",
    "    all_embeddings = []\n",
    "    for i in range(0, len(descriptions), batch_size):\n",
    "        batch = descriptions[i:i + batch_size]\n",
    "        batch_embeddings = model.encode(batch, convert_to_tensor=True, show_progress_bar=False).to(device)\n",
    "        all_embeddings.append(batch_embeddings)\n",
    "    return torch.cat(all_embeddings, dim=0)"
   ]
  },
  {
   "cell_type": "code",
   "execution_count": 5,
   "metadata": {},
   "outputs": [],
   "source": [
    "# Pre-compute embeddings for the 2023 dataset to avoid redundant computation\n",
    "brief_descriptions = df_2023['brief_description'].tolist()\n",
    "embeddings_2023 = batch_encode_descriptions(brief_descriptions, model)"
   ]
  },
  {
   "cell_type": "code",
   "execution_count": 6,
   "metadata": {},
   "outputs": [],
   "source": [
    "def find_most_similar_hs_code(description, embeddings_2023, df_2023, top_n=1):\n",
    "    description_embedding = model.encode([description], convert_to_tensor=True).to(device)\n",
    "    cosine_scores = util.pytorch_cos_sim(description_embedding, embeddings_2023).cpu()\n",
    "\n",
    "    top_results = np.argsort(-cosine_scores.numpy())[0][:top_n]\n",
    "    matched_hs_codes = [(df_2023.iloc[j]['hts8'], cosine_scores[0][j].item()) for j in top_results]\n",
    "\n",
    "    return matched_hs_codes[0] if matched_hs_codes else ('', 0)"
   ]
  },
  {
   "cell_type": "code",
   "execution_count": 7,
   "metadata": {},
   "outputs": [],
   "source": [
    "def process_item(row, embeddings_2023, df_2023):\n",
    "    item_description = row.ProductDescription if pd.notna(row.ProductDescription) else ''\n",
    "    # description_1 = row['Description 2'] if pd.notna(row['Description 2']) else ''\n",
    "    description_to_enhance = f\"{item_description}\".strip()\n",
    "\n",
    "    if description_to_enhance in description_cache:\n",
    "        enhanced_description = description_cache[description_to_enhance]\n",
    "    else:\n",
    "        system_prompt = \"Enhance the description for better HS code matching.\"\n",
    "        enhanced_description = ask_gpt(description_to_enhance, system_prompt)\n",
    "        description_cache[description_to_enhance] = enhanced_description\n",
    "\n",
    "    if enhanced_description:\n",
    "        closest_hs_code_gpt, confidence_score = find_most_similar_hs_code(enhanced_description, embeddings_2023, df_2023)\n",
    "        \n",
    "        associated_2023_description = df_2023[df_2023['hts8'] == closest_hs_code_gpt]['brief_description'].iloc[0] if closest_hs_code_gpt else \"No Description Found\"\n",
    "\n",
    "        return {\n",
    "            '1990 Item': description_to_enhance,\n",
    "            'Predicted HS Code': closest_hs_code_gpt,\n",
    "            'Associated 2023 Description': associated_2023_description,\n",
    "            'Confidence Score': confidence_score\n",
    "        }\n",
    "    else:\n",
    "        logging.warning(f\"Failed to enhance description: {description_to_enhance}\")\n",
    "    return None"
   ]
  },
  {
   "cell_type": "code",
   "execution_count": 8,
   "metadata": {},
   "outputs": [],
   "source": [
    "def match_and_export_hs_codes_gpt(df_1990, embeddings_2023, df_2023, output_file_path):\n",
    "    export_data = []\n",
    "    with ThreadPoolExecutor(max_workers=50) as executor:  # Adjusted to 28 based on your system's capabilities\n",
    "        futures = [executor.submit(process_item, row, embeddings_2023, df_2023) for index, row in df_1990.iterrows()]\n",
    "        for future in as_completed(futures):\n",
    "            result = future.result()\n",
    "            if result:\n",
    "                export_data.append(result)\n",
    "    export_df = pd.DataFrame(export_data)\n",
    "    export_df.to_csv(output_file_path, index=False)"
   ]
  },
  {
   "cell_type": "code",
   "execution_count": 9,
   "metadata": {},
   "outputs": [],
   "source": [
    "output_csv_path = '1990_GPT_Samlpe.csv'\n",
    "match_and_export_hs_codes_gpt(df_1990, embeddings_2023, df_2023, output_csv_path)"
   ]
  }
 ],
 "metadata": {
  "kernelspec": {
   "display_name": "Python 3.8.18 64-bit ('3.8.18': pyenv)",
   "language": "python",
   "name": "python3"
  },
  "language_info": {
   "codemirror_mode": {
    "name": "ipython",
    "version": 3
   },
   "file_extension": ".py",
   "mimetype": "text/x-python",
   "name": "python",
   "nbconvert_exporter": "python",
   "pygments_lexer": "ipython3",
   "version": "3.8.18"
  },
  "orig_nbformat": 4,
  "vscode": {
   "interpreter": {
    "hash": "96b0eb7011005e25d1b7c0189c60dda79f6dc06df047e3d610bb9245c95d7f7b"
   }
  }
 },
 "nbformat": 4,
 "nbformat_minor": 2
}
