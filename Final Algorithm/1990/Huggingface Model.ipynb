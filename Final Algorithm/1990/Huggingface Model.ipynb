{
 "cells": [
  {
   "cell_type": "code",
   "execution_count": 1,
   "metadata": {},
   "outputs": [
    {
     "name": "stderr",
     "output_type": "stream",
     "text": [
      "/home/samirk08/.local/lib/python3.6/site-packages/tqdm/auto.py:22: TqdmWarning: IProgress not found. Please update jupyter and ipywidgets. See https://ipywidgets.readthedocs.io/en/stable/user_install.html\n",
      "  from .autonotebook import tqdm as notebook_tqdm\n",
      "/home/samirk08/.local/lib/python3.6/site-packages/fuzzywuzzy/fuzz.py:11: UserWarning: Using slow pure-python SequenceMatcher. Install python-Levenshtein to remove this warning\n",
      "  warnings.warn('Using slow pure-python SequenceMatcher. Install python-Levenshtein to remove this warning')\n"
     ]
    }
   ],
   "source": [
    "import pandas as pd\n",
    "import numpy as np\n",
    "from sentence_transformers import SentenceTransformer, util\n",
    "from concurrent.futures import ThreadPoolExecutor, as_completed\n",
    "from functools import partial\n",
    "from fuzzywuzzy import fuzz\n",
    "import torch\n"
   ]
  },
  {
   "cell_type": "code",
   "execution_count": 2,
   "metadata": {},
   "outputs": [
    {
     "name": "stderr",
     "output_type": "stream",
     "text": [
      "/home/samirk08/.local/lib/python3.6/site-packages/torch/cuda/__init__.py:80: UserWarning: CUDA initialization: The NVIDIA driver on your system is too old (found version 10010). Please update your GPU driver by downloading and installing a new version from the URL: http://www.nvidia.com/Download/index.aspx Alternatively, go to: https://pytorch.org to install a PyTorch version that has been compiled with your version of the CUDA driver. (Triggered internally at  ../c10/cuda/CUDAFunctions.cpp:112.)\n",
      "  return torch._C._cuda_getDeviceCount() > 0\n"
     ]
    }
   ],
   "source": [
    "# Load the SentenceTransformer model\n",
    "model = SentenceTransformer('all-MiniLM-L6-v2')  # Ensure the model uses GPU if available\n",
    "\n",
    "# File paths\n",
    "file_2023 = '/home/samirk08/UROP_SPRING_2024/UROP IAP 2024/Original Databases/tariff database_202305.xlsx'\n",
    "file_1990 = '/home/samirk08/UROP_SPRING_2024/1990/1000_1990.xlsx'\n",
    "# manual_coding_file = '/Users/samirkadariya/Desktop/School/UROP IAP 2024/Original Databases/Manual coding.xlsx'\n",
    "\n",
    "# Load the data\n",
    "df_2023 = pd.read_excel(file_2023)\n",
    "df_1990 = pd.read_excel(file_1990)\n",
    "# df_manual_coding = pd.read_excel(manual_coding_file)"
   ]
  },
  {
   "cell_type": "code",
   "execution_count": 3,
   "metadata": {},
   "outputs": [],
   "source": [
    "def batch_encode_descriptions(model, descriptions, batch_size=32):\n",
    "    \"\"\"Encode descriptions in batches to utilize GPU more efficiently.\"\"\"\n",
    "    all_embeddings = []\n",
    "    for i in range(0, len(descriptions), batch_size):\n",
    "        batch = descriptions[i:i + batch_size]\n",
    "        batch_embeddings = model.encode(batch, convert_to_tensor=True)\n",
    "        all_embeddings.append(batch_embeddings)\n",
    "    return torch.cat(all_embeddings, dim=0)"
   ]
  },
  {
   "cell_type": "code",
   "execution_count": 4,
   "metadata": {},
   "outputs": [],
   "source": [
    "# Pre-compute embeddings for the 2023 dataset to avoid redundant computation\n",
    "brief_descriptions = df_2023['brief_description'].tolist()\n",
    "embeddings_2023 = batch_encode_descriptions(model, brief_descriptions)"
   ]
  },
  {
   "cell_type": "code",
   "execution_count": 5,
   "metadata": {},
   "outputs": [],
   "source": [
    "def find_most_similar_hs_code(description, embeddings_2023, df_2023, top_n=1):\n",
    "    \"\"\"Find the most similar HS code for a given description.\"\"\"\n",
    "    description_embedding = model.encode([description], convert_to_tensor=True)\n",
    "    cosine_scores = util.pytorch_cos_sim(description_embedding, embeddings_2023)\n",
    "    top_results = np.argsort(-cosine_scores.cpu().numpy())[0][:top_n]\n",
    "    if top_results.size > 0:\n",
    "        top_index = top_results[0]\n",
    "        predicted_hs_code = df_2023.iloc[top_index]['hts8']\n",
    "        confidence_score = cosine_scores[0][top_index].item()\n",
    "        return predicted_hs_code, confidence_score\n",
    "    else:\n",
    "        return '', 0.0"
   ]
  },
  {
   "cell_type": "code",
   "execution_count": 6,
   "metadata": {},
   "outputs": [],
   "source": [
    "def calculate_similarity_with_actual_hs_code(predicted_hs_code, actual_hs_code):\n",
    "    # Ensure HS codes are strings for fuzzy matching\n",
    "    predicted_hs_code_str = str(predicted_hs_code)\n",
    "    actual_hs_code_str = str(actual_hs_code)\n",
    "    # Calculate similarity using fuzzywuzzy\n",
    "    similarity = fuzz.ratio(predicted_hs_code_str, actual_hs_code_str)\n",
    "    # Convert to a scale of 0 to 1 (fuzz.ratio returns a value between 0 and 100)\n",
    "    return similarity / 100.0"
   ]
  },
  {
   "cell_type": "code",
   "execution_count": 7,
   "metadata": {},
   "outputs": [],
   "source": [
    "def process_item_and_predict_hs_code(row, embeddings_2023, df_2023):\n",
    "    \"\"\"Process each item and predict HS code.\"\"\"\n",
    "    combined_description = f\"{row['ProductDescription']}\".strip()\n",
    "    predicted_hs_code, confidence_score = find_most_similar_hs_code(combined_description, embeddings_2023, df_2023)\n",
    "    return {\n",
    "        '1990 Item': row['ProductDescription'],\n",
    "        'Predicted HS Code': predicted_hs_code,\n",
    "        'Confidence Score': confidence_score\n",
    "    }"
   ]
  },
  {
   "cell_type": "code",
   "execution_count": 8,
   "metadata": {},
   "outputs": [],
   "source": [
    "def match_and_export_parallel(df_1990, embeddings_2023, df_2023, output_file_path):\n",
    "    \"\"\"Match items and export results in parallel.\"\"\"\n",
    "    with ThreadPoolExecutor(max_workers=50) as executor:\n",
    "        process_func = partial(process_item_and_predict_hs_code, embeddings_2023=embeddings_2023, df_2023=df_2023)\n",
    "        futures = [executor.submit(process_func, row) for _, row in df_1990.iterrows()]\n",
    "        export_data = [future.result() for future in as_completed(futures)]\n",
    "\n",
    "    export_df = pd.DataFrame(export_data)\n",
    "    export_df.to_csv(output_file_path, index=False)"
   ]
  },
  {
   "cell_type": "code",
   "execution_count": 9,
   "metadata": {},
   "outputs": [],
   "source": [
    "# Output file path\n",
    "output_csv_path = 'HF_1990_Sample.csv'\n",
    "match_and_export_parallel(df_1990, embeddings_2023, df_2023, output_csv_path)"
   ]
  }
 ],
 "metadata": {
  "kernelspec": {
   "display_name": "Python 3.6.9 64-bit",
   "language": "python",
   "name": "python3"
  },
  "language_info": {
   "codemirror_mode": {
    "name": "ipython",
    "version": 3
   },
   "file_extension": ".py",
   "mimetype": "text/x-python",
   "name": "python",
   "nbconvert_exporter": "python",
   "pygments_lexer": "ipython3",
   "version": "3.6.9"
  },
  "orig_nbformat": 4,
  "vscode": {
   "interpreter": {
    "hash": "31f2aee4e71d21fbe5cf8b01ff0e069b9275f58929596ceb00d14d90e3e16cd6"
   }
  }
 },
 "nbformat": 4,
 "nbformat_minor": 2
}
