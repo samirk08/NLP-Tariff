{
 "cells": [
  {
   "cell_type": "code",
   "execution_count": 1,
   "metadata": {},
   "outputs": [
    {
     "name": "stderr",
     "output_type": "stream",
     "text": [
      "/Users/samirkadariya/miniconda3/envs/new_env/lib/python3.8/site-packages/tqdm/auto.py:21: TqdmWarning: IProgress not found. Please update jupyter and ipywidgets. See https://ipywidgets.readthedocs.io/en/stable/user_install.html\n",
      "  from .autonotebook import tqdm as notebook_tqdm\n"
     ]
    }
   ],
   "source": [
    "import pandas as pd\n",
    "import numpy as np\n",
    "from sentence_transformers import SentenceTransformer, util"
   ]
  },
  {
   "cell_type": "code",
   "execution_count": 2,
   "metadata": {},
   "outputs": [],
   "source": [
    "model = SentenceTransformer('all-MiniLM-L6-v2')\n",
    "\n",
    "file_2023 = 'tariff database_202305.xlsx'\n",
    "file_1789 = '1789.xlsx'\n",
    "\n",
    "df_2023 = pd.read_excel(file_2023)\n",
    "df_1789 = pd.read_excel(file_1789)"
   ]
  },
  {
   "cell_type": "code",
   "execution_count": 3,
   "metadata": {},
   "outputs": [],
   "source": [
    "def find_similar_hs_codes_transformers(df_1789, df_2023, top_n=1):\n",
    "    # Combining item and description fields for 1789 data\n",
    "    df_1789['combined_description'] = df_1789['item'].fillna('') + ' ' + df_1789['description_1'].fillna('')\n",
    "\n",
    "    # Compute embeddings for each description\n",
    "    embeddings_1789 = model.encode(df_1789['combined_description'].tolist(), convert_to_tensor=True)\n",
    "    embeddings_2023 = model.encode(df_2023['brief_description'].tolist(), convert_to_tensor=True)\n",
    "\n",
    "    # Calculate cosine similarities\n",
    "    cosine_scores = util.pytorch_cos_sim(embeddings_1789, embeddings_2023)\n",
    "\n",
    "    # Find the top N similar HS codes for each 1789 item\n",
    "    hs_code_matches = []\n",
    "    for i in range(len(df_1789)):\n",
    "        top_results = np.argsort(-cosine_scores[i].cpu().numpy())[:top_n]\n",
    "        matched_hs_codes = [(df_2023.iloc[j]['hts8'], cosine_scores[i][j].item()) for j in top_results]\n",
    "        hs_code_matches.append(matched_hs_codes)\n",
    "\n",
    "    return hs_code_matches"
   ]
  },
  {
   "cell_type": "code",
   "execution_count": 4,
   "metadata": {},
   "outputs": [],
   "source": [
    "def match_and_export_hs_codes_transformers(df_1789, df_2023, output_file_path):\n",
    "    all_matches = find_similar_hs_codes_transformers(df_1789, df_2023)\n",
    "\n",
    "    export_data = []\n",
    "    for i, matches in enumerate(all_matches):\n",
    "        for hs_code, score in matches:\n",
    "            df_2023_row = df_2023[df_2023['hts8'] == hs_code].iloc[0]\n",
    "            export_data.append({\n",
    "                '1789 Item': df_1789.iloc[i]['item'],\n",
    "                '1789 Description': df_1789.iloc[i]['description_1'],\n",
    "                'Matched HS Code': hs_code,\n",
    "                '2023 Description': df_2023_row['brief_description'],\n",
    "                'Similarity Score': score\n",
    "            })\n",
    "\n",
    "    export_df = pd.DataFrame(export_data)\n",
    "    export_df.to_csv(output_file_path, index=False)\n",
    "\n",
    "    return export_df"
   ]
  },
  {
   "cell_type": "code",
   "execution_count": 5,
   "metadata": {},
   "outputs": [
    {
     "name": "stdout",
     "output_type": "stream",
     "text": [
      "                            1789 Item  \\\n",
      "0  distilled spirits of Jamaica proof   \n",
      "1             other distilled spirits   \n",
      "2                            molasses   \n",
      "3                        Madeira wine   \n",
      "4                     all other wines   \n",
      "\n",
      "                                  1789 Description  Matched HS Code  \\\n",
      "0  imported from any kingdom of country whatsoever         98206505   \n",
      "1                                              NaN         22072000   \n",
      "2                                              NaN         17029035   \n",
      "3                                              NaN         22041000   \n",
      "4                                              NaN         22060090   \n",
      "\n",
      "                                    2023 Description  Similarity Score  \n",
      "0  Haiti/DR goods: Articles of chapter 65 in the ...          0.451216  \n",
      "1  Ethyl alcohol and other spirits, denatured, of...          0.581290  \n",
      "2                                    Invert molasses          0.728247  \n",
      "3                   Sparkling wine, made from grapes          0.575580  \n",
      "4  Fermented beverages (other than grape wine, be...          0.576395  \n"
     ]
    }
   ],
   "source": [
    "output_csv_path = 'matched_hs_codes_1789_to_2023_transformers.csv'\n",
    "exported_df_transformers = match_and_export_hs_codes_transformers(df_1789, df_2023, output_csv_path)\n",
    "print(exported_df_transformers.head())"
   ]
  }
 ],
 "metadata": {
  "kernelspec": {
   "display_name": "Python 3.8.18 ('new_env')",
   "language": "python",
   "name": "python3"
  },
  "language_info": {
   "codemirror_mode": {
    "name": "ipython",
    "version": 3
   },
   "file_extension": ".py",
   "mimetype": "text/x-python",
   "name": "python",
   "nbconvert_exporter": "python",
   "pygments_lexer": "ipython3",
   "version": "3.8.18"
  },
  "orig_nbformat": 4,
  "vscode": {
   "interpreter": {
    "hash": "f53260004385f87680f25ec8e2e4c3528b7ac8fba907c7fa171a3bff32d809b2"
   }
  }
 },
 "nbformat": 4,
 "nbformat_minor": 2
}
