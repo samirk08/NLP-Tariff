{
 "cells": [
  {
   "cell_type": "code",
   "execution_count": 9,
   "metadata": {},
   "outputs": [],
   "source": [
    "##IMPORTS##\n",
    "\n",
    "import pandas as pd\n",
    "import numpy as np\n",
    "from sentence_transformers import SentenceTransformer, util\n",
    "from sklearn.metrics import f1_score"
   ]
  },
  {
   "cell_type": "code",
   "execution_count": 10,
   "metadata": {},
   "outputs": [],
   "source": [
    "## Initialize Transformer and pdf files ##\n",
    "model = SentenceTransformer('all-MiniLM-L6-v2')\n",
    "\n",
    "file_2023 = '/Users/samirkadariya/Desktop/School/UROP IAP 2024/Original Databases/tariff database_202305.xlsx'\n",
    "file_1990 = '/Users/samirkadariya/Desktop/School/UROP IAP 2024/Original Databases/1990_CUT.xlsx' \n",
    "\n",
    "df_2023 = pd.read_excel(file_2023)\n",
    "df_1990 = pd.read_excel(file_1990)  # Load 1990 data"
   ]
  },
  {
   "cell_type": "code",
   "execution_count": 11,
   "metadata": {},
   "outputs": [],
   "source": [
    "def find_similar_hs_codes_transformers(df_1990, df_2023, top_n=1):\n",
    "    # Combining item and description fields for 1990 data\n",
    "    df_1990['combined_description'] = df_1990['ProductDescription'].fillna('')\n",
    "\n",
    "    # Compute embeddings for each description\n",
    "    embeddings_1990 = model.encode(df_1990['combined_description'].tolist(), convert_to_tensor=True)\n",
    "    embeddings_2023 = model.encode(df_2023['brief_description'].tolist(), convert_to_tensor=True)\n",
    "\n",
    "    # Calculate cosine similarities\n",
    "    cosine_scores = util.pytorch_cos_sim(embeddings_1990, embeddings_2023)\n",
    "\n",
    "    # Find the top N similar HS codes for each 1990 item\n",
    "    hs_code_matches = []\n",
    "    for i in range(len(df_1990)):\n",
    "        top_results = np.argsort(-cosine_scores[i].cpu().numpy())[:top_n]\n",
    "        matched_hs_codes = [(df_2023.iloc[j]['hts8'], cosine_scores[i][j].item()) for j in top_results]\n",
    "        hs_code_matches.append(matched_hs_codes)\n",
    "\n",
    "    return hs_code_matches"
   ]
  },
  {
   "cell_type": "code",
   "execution_count": 12,
   "metadata": {},
   "outputs": [],
   "source": [
    "def calculate_f1_scores(y_true, y_pred, digit_level=10):\n",
    "    # Truncate HS codes to the specified digit level\n",
    "    y_true_truncated = [str(code)[:digit_level] for code in y_true]\n",
    "    y_pred_truncated = [str(code)[:digit_level] for code in y_pred]\n",
    "\n",
    "    # Calculate F1 score\n",
    "    return f1_score(y_true_truncated, y_pred_truncated, average='weighted')"
   ]
  },
  {
   "cell_type": "code",
   "execution_count": 13,
   "metadata": {},
   "outputs": [],
   "source": [
    "def match_and_export_hs_codes_transformers(df_1990, df_2023, output_file_path):\n",
    "    all_matches = find_similar_hs_codes_transformers(df_1990, df_2023)\n",
    "\n",
    "    export_data = []\n",
    "    for i, matches in enumerate(all_matches):\n",
    "        for hs_code, score in matches:\n",
    "            df_2023_row = df_2023[df_2023['hts8'] == hs_code].iloc[0]\n",
    "            original_hs_code = df_1990.iloc[i]['ProductCode']  # Replace with actual column name\n",
    "            f1_hs10 = calculate_f1_scores([original_hs_code], [hs_code], 10)\n",
    "            f1_hs6 = calculate_f1_scores([original_hs_code], [hs_code], 6)\n",
    "            f1_hs4 = calculate_f1_scores([original_hs_code], [hs_code], 4)\n",
    "\n",
    "            export_data.append({\n",
    "                '1990 Product': df_1990.iloc[i]['ProductDescription'],\n",
    "                'Original HS Code': original_hs_code,\n",
    "                'Matched HS Code': hs_code,\n",
    "                '2023 Description': df_2023_row['brief_description'],\n",
    "                'F1 Score HS10': f1_hs10,\n",
    "                'F1 Score HS6': f1_hs6,\n",
    "                'F1 Score HS4': f1_hs4,\n",
    "                'Similarity Score': score\n",
    "            })\n",
    "\n",
    "    export_df = pd.DataFrame(export_data)\n",
    "    export_df.to_csv(output_file_path, index=False)\n",
    "\n",
    "    return export_df"
   ]
  },
  {
   "cell_type": "code",
   "execution_count": 14,
   "metadata": {},
   "outputs": [
    {
     "name": "stdout",
     "output_type": "stream",
     "text": [
      "                                        1990 Product  Original HS Code  \\\n",
      "0  Live ducks, geese, turkeys and guineas, weighi...           1051900   \n",
      "1  Live swine, other than purebred breeding swine...           1039100   \n",
      "2      Live asses other than purebred breeding asses           1012020   \n",
      "3                     Live birds, other than poultry           1060010   \n",
      "\n",
      "   Matched HS Code                                   2023 Description  \\\n",
      "0          1059900  Live ducks, geese, turkeys and guineas, weighi...   \n",
      "1          1039100  Live swine, other than purebred breeding swine...   \n",
      "2          1013000                                         Live asses   \n",
      "3          1063901  Live birds, other than poultry, birds of prey ...   \n",
      "\n",
      "   F1 Score HS10  F1 Score HS6  F1 Score HS4  Similarity Score  \n",
      "0            0.0           0.0           0.0          0.986649  \n",
      "1            1.0           1.0           1.0          1.000000  \n",
      "2            0.0           0.0           0.0          0.631173  \n",
      "3            0.0           0.0           0.0          0.864137  \n"
     ]
    }
   ],
   "source": [
    "output_csv_path = 'matched_hs_codes_1990_to_2023_transformers.csv'\n",
    "exported_df_transformers = match_and_export_hs_codes_transformers(df_1990, df_2023, output_csv_path)\n",
    "print(exported_df_transformers.head())"
   ]
  }
 ],
 "metadata": {
  "kernelspec": {
   "display_name": "Python 3.8.18 ('new_env')",
   "language": "python",
   "name": "python3"
  },
  "language_info": {
   "codemirror_mode": {
    "name": "ipython",
    "version": 3
   },
   "file_extension": ".py",
   "mimetype": "text/x-python",
   "name": "python",
   "nbconvert_exporter": "python",
   "pygments_lexer": "ipython3",
   "version": "3.8.18"
  },
  "orig_nbformat": 4,
  "vscode": {
   "interpreter": {
    "hash": "f53260004385f87680f25ec8e2e4c3528b7ac8fba907c7fa171a3bff32d809b2"
   }
  }
 },
 "nbformat": 4,
 "nbformat_minor": 2
}
